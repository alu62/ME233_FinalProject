{
  "nbformat": 4,
  "nbformat_minor": 0,
  "metadata": {
    "colab": {
      "provenance": [],
      "authorship_tag": "ABX9TyNCupJg+HPyA/rreqkeJ1EW",
      "include_colab_link": true
    },
    "kernelspec": {
      "name": "python3",
      "display_name": "Python 3"
    },
    "language_info": {
      "name": "python"
    }
  },
  "cells": [
    {
      "cell_type": "markdown",
      "metadata": {
        "id": "view-in-github",
        "colab_type": "text"
      },
      "source": [
        "<a href=\"https://colab.research.google.com/github/alu62/ME233_FinalProject/blob/main/ME233DataProcessing.ipynb\" target=\"_parent\"><img src=\"https://colab.research.google.com/assets/colab-badge.svg\" alt=\"Open In Colab\"/></a>"
      ]
    },
    {
      "cell_type": "markdown",
      "source": [
        "This code process the raw RTV-2 tensile data available at: https://figshare.com/articles/dataset/Stress-strain_curves_of_uniaxial_tension_test_subjected_to_quasi-static_axial_loads_of_RTV-2_material/17430608?backTo=%2Fcollections%2F_%2F5764694&file=32118758\n",
        "\n",
        "Data processing code created by: Alexander Lu, Nachuan You, Ruitao Su, and Yixiang Guo\n",
        "\n",
        "Authors of dataset: José Israel Martínez López, Josué García Ávila, Erick Ramirez Cedillo, Adriana Vargas Martínez, Ciro A. Rodriguez Gonzalez\n",
        "\n",
        "Dataset from paper: \"E-Skin Development and Prototyping via Soft Tooling and Composites with Silicone Rubber and Carbon Nanotubes\""
      ],
      "metadata": {
        "id": "UJvLKy7UNj0n"
      }
    },
    {
      "cell_type": "code",
      "execution_count": null,
      "metadata": {
        "id": "tcGoHRKCQboM"
      },
      "outputs": [],
      "source": [
        "import pandas as pd\n",
        "import numpy as np\n",
        "import matplotlib.pyplot as plt"
      ]
    },
    {
      "cell_type": "code",
      "source": [
        "df = pd.read_excel('elastosil7683.xlsx', header = None)\n",
        "df.head()"
      ],
      "metadata": {
        "id": "g__sIIjaSF0N"
      },
      "execution_count": null,
      "outputs": []
    },
    {
      "cell_type": "code",
      "source": [
        "stress1 = df[1]\n",
        "stress2 =df[3]\n",
        "stress3=df[5]\n"
      ],
      "metadata": {
        "id": "T5dK-fn7SM9n"
      },
      "execution_count": null,
      "outputs": []
    },
    {
      "cell_type": "code",
      "source": [
        "# find first instance of 0\n",
        "stress1_0 = stress1[stress1 == 0].index[0]\n",
        "stress2_0 = stress2[stress2 == 0].index[0]\n",
        "stress3_0 = stress3[stress3 == 0].index[0]\n",
        "stress2_0"
      ],
      "metadata": {
        "id": "H7xTtyFzSUfQ"
      },
      "execution_count": null,
      "outputs": []
    },
    {
      "cell_type": "code",
      "source": [
        "# truncate all stress data to first instance of 0\n",
        "min_ndx = min(stress1_0, stress2_0, stress3_0)\n",
        "stress1 = stress1[:min_ndx]\n",
        "stress2 = stress2[:min_ndx]\n",
        "stress3 = stress3[:min_ndx]\n",
        "\n"
      ],
      "metadata": {
        "id": "E4hK1r8JS73x"
      },
      "execution_count": null,
      "outputs": []
    },
    {
      "cell_type": "code",
      "source": [
        "# take average of 3 stress columns\n",
        "stress_avg = (stress1 + stress2 + stress3)/3\n",
        "\n",
        "strain_truncated = df[0][:min_ndx]\n",
        "stretch = strain_truncated + 1\n"
      ],
      "metadata": {
        "id": "zWFnLHiLTze8"
      },
      "execution_count": null,
      "outputs": []
    },
    {
      "cell_type": "code",
      "source": [
        "df_out = pd.DataFrame({\"stretch\": stretch, \"stress\": stress_avg})\n",
        "print(len(df_out))\n",
        "df_out.head()"
      ],
      "metadata": {
        "id": "wpCU3FsDUJ4H"
      },
      "execution_count": null,
      "outputs": []
    },
    {
      "cell_type": "code",
      "source": [
        "# Plot stretch strain\n",
        "plt.plot(df_out[\"stretch\"], df_out[\"stress\"])\n",
        "plt.show()"
      ],
      "metadata": {
        "id": "C2GvfjuOUcGF"
      },
      "execution_count": null,
      "outputs": []
    },
    {
      "cell_type": "code",
      "source": [
        "# only include data where stretch <= 3\n",
        "df_out = df_out[df_out[\"stretch\"] <= 3]\n",
        "print(len(df_out))\n",
        "df_out.head()\n",
        "plt.plot(df_out[\"stretch\"], df_out[\"stress\"])\n",
        "plt.xlabel(\"Stretch\")\n",
        "plt.ylabel(\"Stress [MPa]\")\n",
        "plt.show()"
      ],
      "metadata": {
        "id": "L7k9F9Fhd8yE"
      },
      "execution_count": null,
      "outputs": []
    },
    {
      "cell_type": "code",
      "source": [
        "# shift stress values so first stress value is 0\n",
        "df_out[\"stress\"] = df_out[\"stress\"] - df_out[\"stress\"][0]\n",
        "df_out.head()\n",
        "print(len(df_out))\n",
        "df_out.head()\n",
        "plt.plot(df_out[\"stretch\"], df_out[\"stress\"])\n",
        "plt.xlabel(\"Stretch\")\n",
        "plt.ylabel(\"Stress [MPa]\")\n",
        "plt.show()"
      ],
      "metadata": {
        "id": "YmrrG9siBKOD"
      },
      "execution_count": null,
      "outputs": []
    },
    {
      "cell_type": "code",
      "source": [
        "# Write to excel\n",
        "df_out.to_excel(\"elastosil7683_truncated.xlsx\", index=False)"
      ],
      "metadata": {
        "id": "u1C3sJMnUoRs"
      },
      "execution_count": null,
      "outputs": []
    }
  ]
}